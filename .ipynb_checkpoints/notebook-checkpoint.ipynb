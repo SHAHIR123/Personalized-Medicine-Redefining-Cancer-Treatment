{
 "cells": [
  {
   "cell_type": "code",
   "execution_count": null,
   "metadata": {
    "_cell_guid": "876a6f4c-42ac-4e03-90c1-27916f52e16a",
    "_uuid": "95898dc7b0832fad629afcd0709afeca66de7c43",
    "collapsed": true
   },
   "outputs": [],
   "source": [
    "# This Python 3 environment comes with many helpful analytics libraries installed\n",
    "# It is defined by the kaggle/python docker image: https://github.com/kaggle/docker-python\n",
    "# For example, here's several helpful packages to load in \n",
    "\n",
    "import numpy as np # linear algebra\n",
    "import pandas as pd # data processing, CSV file I/O (e.g. pd.read_csv)\n",
    "\n",
    "# Input data files are available in the \"../input/\" directory.\n",
    "# For example, running this (by clicking run or pressing Shift+Enter) will list the files in the input directory\n",
    "\n",
    "from subprocess import check_output\n",
    "print(check_output([\"ls\", \"../input\"]).decode(\"utf8\"))\n",
    "\n",
    "# Any results you write to the current directory are saved as output."
   ]
  },
  {
   "cell_type": "code",
   "execution_count": null,
   "metadata": {
    "_cell_guid": "46e3c9a5-4e48-4451-82f3-2fc82b3be89f",
    "_uuid": "127d0b97cffe481f2181e9c54c262f52751e3992",
    "collapsed": true
   },
   "outputs": [],
   "source": [
    "import scipy.sparse as ssp\n",
    "from sklearn import metrics, model_selection\n",
    "from sklearn.linear_model import LogisticRegression\n",
    "from sklearn.feature_extraction.text import TfidfVectorizer"
   ]
  },
  {
   "cell_type": "code",
   "execution_count": null,
   "metadata": {
    "_cell_guid": "bf634712-90e1-4e18-aaf5-9b5c9961b6a9",
    "_uuid": "3954a8c0ee02eadcecbb52b849dc927d42598115",
    "collapsed": true
   },
   "outputs": [],
   "source": [
    "def read_text_data(filename):\n",
    "    texts = []\n",
    "    with open(filename) as fi:\n",
    "        fi.readline()\n",
    "        for line in fi:\n",
    "            id, text = line.split(\"||\")\n",
    "    texts.append(text)\n",
    "    return texts"
   ]
  },
  {
   "cell_type": "code",
   "execution_count": null,
   "metadata": {
    "_cell_guid": "eaad0765-7858-4613-bab2-ead214e6f8ab",
    "_uuid": "ee9efd4dc1d46b96ad0e068afd0bebc181803920",
    "collapsed": true
   },
   "outputs": [],
   "source": [
    "path = \"../input/\"\n"
   ]
  },
  {
   "cell_type": "code",
   "execution_count": null,
   "metadata": {
    "_cell_guid": "ed6eb1ef-2ffe-438d-8252-c71113988632",
    "_uuid": "827c89d978dfb175a7146f1bd53c3752e5d2a5da",
    "collapsed": true
   },
   "outputs": [],
   "source": [
    "train_texts = read_text_data(path+\"training_text\")\n",
    "test_texts = read_text_data(path+\"test_text\")\n"
   ]
  },
  {
   "cell_type": "code",
   "execution_count": null,
   "metadata": {
    "_cell_guid": "53430bec-bf98-4cc1-b353-8e900d02c166",
    "_uuid": "f6173a745aaa4924b1a635fd4e1b293275eb13ac",
    "collapsed": true
   },
   "outputs": [],
   "source": [
    "tfidf = TfidfVectorizer(\n",
    "    min_df=1, max_features=1600, strip_accents='unicode', lowercase =True,\n",
    "    analyzer='word', token_pattern=r'\\w+', ngram_range=(1, 3), use_idf=True,\n",
    "    smooth_idf=True, sublinear_tf=True, stop_words = 'english'\n",
    ").fit(train_texts)"
   ]
  },
  {
   "cell_type": "code",
   "execution_count": null,
   "metadata": {
    "_cell_guid": "f9ead053-8f13-4a02-9982-751c66deb00e",
    "_uuid": "64140185d7715010eb1618869065924685930815",
    "collapsed": true
   },
   "outputs": [],
   "source": [
    "X_train_text = tfidf.transform(train_texts)\n",
    "X_test_text = tfidf.transform(test_texts)\n"
   ]
  },
  {
   "cell_type": "code",
   "execution_count": null,
   "metadata": {
    "_cell_guid": "46d64a80-f8a2-472b-8491-a2af9e51aef2",
    "_uuid": "0f506bfaa23769f0438273402498fc63cbed9da1",
    "collapsed": true
   },
   "outputs": [],
   "source": [
    "X_train_text"
   ]
  },
  {
   "cell_type": "code",
   "execution_count": null,
   "metadata": {
    "_cell_guid": "dd7de8bb-d381-46e5-9f0e-fed19432353c",
    "_uuid": "57bf487b8c00691b1a1cbd908552fe7d3548ca32",
    "collapsed": true
   },
   "outputs": [],
   "source": [
    "train = pd.read_csv(path+\"training_variants\")\n",
    "test = pd.read_csv(path+\"test_variants\")\n"
   ]
  },
  {
   "cell_type": "code",
   "execution_count": null,
   "metadata": {
    "_cell_guid": "5e11f376-23b6-47b0-9a98-982ca679c7e2",
    "_uuid": "17bf059f7231d7b716d2ab65f2fd9f115bec7b30",
    "collapsed": true
   },
   "outputs": [],
   "source": [
    "ID_train = train.ID\n",
    "ID_test = test.ID"
   ]
  },
  {
   "cell_type": "code",
   "execution_count": null,
   "metadata": {
    "_cell_guid": "377b2962-281b-43fa-8eb6-9e8484548e81",
    "_uuid": "9e6b0bd458328d66aca7f4c647adb5f5dad7f850",
    "collapsed": true
   },
   "outputs": [],
   "source": [
    "y = train.Class.values-1"
   ]
  },
  {
   "cell_type": "code",
   "execution_count": null,
   "metadata": {
    "_cell_guid": "a1e1afac-ce33-4199-99bc-5be8731e18fc",
    "_uuid": "d87ed8cc29c432fa4e1e1407d8fda40c9ffc654d",
    "collapsed": true
   },
   "outputs": [],
   "source": [
    "train.head()"
   ]
  },
  {
   "cell_type": "code",
   "execution_count": null,
   "metadata": {
    "_cell_guid": "3e9bdc1d-417a-4dc1-972d-6b75f761c045",
    "_uuid": "9f3df3a6a8e4102f02689dc62311a54afefe8a92",
    "collapsed": true
   },
   "outputs": [],
   "source": [
    "train = train.drop(['ID','Class'], axis=1)\n",
    "test = test.drop(['ID'], axis=1)"
   ]
  },
  {
   "cell_type": "code",
   "execution_count": null,
   "metadata": {
    "_cell_guid": "1fef5727-64b1-4835-b1d1-c0a10a6ae6f3",
    "_uuid": "6674aa959e6c52e9365337dd70028546bf24ca1c",
    "collapsed": true
   },
   "outputs": [],
   "source": [
    "test.head()"
   ]
  },
  {
   "cell_type": "code",
   "execution_count": null,
   "metadata": {
    "_cell_guid": "88c47af9-10ed-4094-acb2-eca76605bd8e",
    "_uuid": "7fbc4922d23e1e2512675b129640efa8ac8151f3",
    "collapsed": true
   },
   "outputs": [],
   "source": [
    "test.shape"
   ]
  },
  {
   "cell_type": "code",
   "execution_count": null,
   "metadata": {
    "_cell_guid": "a07e980f-ba07-4f3e-be51-4ff85e18ce9c",
    "_uuid": "ed7961c1e227fcea6a86018ea9f510b4e6e3ae25",
    "collapsed": true
   },
   "outputs": [],
   "source": [
    "train.shape"
   ]
  },
  {
   "cell_type": "code",
   "execution_count": null,
   "metadata": {
    "_cell_guid": "ab983f33-03e7-4900-b49d-d354c9365cab",
    "_uuid": "a28b5b301d8d57a7daf160c9847645ebc1f2e106",
    "collapsed": true
   },
   "outputs": [],
   "source": [
    "train.head()"
   ]
  },
  {
   "cell_type": "code",
   "execution_count": null,
   "metadata": {
    "_cell_guid": "305d41b9-baa2-414c-9728-608af17cf47e",
    "_uuid": "1036313f74dcea47a1617afcb1bf9e8e8cfcc806",
    "collapsed": true
   },
   "outputs": [],
   "source": [
    "data = train.append(test)"
   ]
  },
  {
   "cell_type": "code",
   "execution_count": null,
   "metadata": {
    "_cell_guid": "2dc0fd55-d088-41d5-920f-f834eae09161",
    "_uuid": "98107f460c46354daf8a23dde6de76defb5335c7",
    "collapsed": true
   },
   "outputs": [],
   "source": [
    "data.shape"
   ]
  },
  {
   "cell_type": "code",
   "execution_count": null,
   "metadata": {
    "_cell_guid": "632b4910-c383-49bd-8c6d-145c6f8b7ed6",
    "_uuid": "aadd2c09a1684a618933c0ed45c29be7a799f66e",
    "collapsed": true
   },
   "outputs": [],
   "source": [
    "X_data = pd.get_dummies(data).values\n",
    "X_data.shape"
   ]
  },
  {
   "cell_type": "code",
   "execution_count": null,
   "metadata": {
    "_cell_guid": "e92ede05-d0f3-4f30-9f13-4684b38545fb",
    "_uuid": "caca60cb35ce8a5666c550cd22ffd92b0bff9d50",
    "collapsed": true
   },
   "outputs": [],
   "source": [
    "X = X_data[:train.shape[0]]\n",
    "X_test = X_data[train.shape[0]:]\n"
   ]
  },
  {
   "cell_type": "code",
   "execution_count": null,
   "metadata": {
    "_cell_guid": "8b3ef62c-ef65-417c-969d-491b717baff6",
    "_uuid": "962f3af69fb8a60249777068ec51b3b731efc10b",
    "collapsed": true
   },
   "outputs": [],
   "source": [
    "X.shape\n"
   ]
  },
  {
   "cell_type": "code",
   "execution_count": null,
   "metadata": {
    "_cell_guid": "2dfa9d39-90f8-4058-b418-740628cf4b26",
    "_uuid": "08393ccf0204def5e5731dd914ea33b2968d35b8",
    "collapsed": true
   },
   "outputs": [],
   "source": [
    "X_test.shape\n"
   ]
  },
  {
   "cell_type": "code",
   "execution_count": null,
   "metadata": {
    "_cell_guid": "b29e818f-d3ef-435f-9e79-7087d03ed813",
    "_uuid": "995dea0c40bc69da3aa52515c9407d96caecf35f",
    "collapsed": true
   },
   "outputs": [],
   "source": [
    "\n",
    "X_test_text.shape\n"
   ]
  },
  {
   "cell_type": "code",
   "execution_count": null,
   "metadata": {
    "_cell_guid": "70fddb2f-58ff-4714-9ce1-d9ae39335455",
    "_uuid": "f668c22c121db210678c9c3e05f0e97ed39bd7cf",
    "collapsed": true
   },
   "outputs": [],
   "source": [
    "X_train_text.shape\n"
   ]
  },
  {
   "cell_type": "code",
   "execution_count": null,
   "metadata": {
    "_cell_guid": "1791cae7-6b9c-4947-ab08-bf15c4add2d7",
    "_uuid": "b99ea930f81369b2e6280b0862fd21181b730c50",
    "collapsed": true
   },
   "outputs": [],
   "source": [
    "X = ssp.hstack((X_train_text, X), format='csr')\n",
    "X_test = ssp.hstack((X_test_text, X_test), format='csr')"
   ]
  },
  {
   "cell_type": "code",
   "execution_count": null,
   "metadata": {
    "_cell_guid": "f4b86755-941e-417f-89bf-20fa852b6b9b",
    "_uuid": "7a7d416a9d498cf7a8324784d5ea717d9ca8ff14",
    "collapsed": true
   },
   "outputs": [],
   "source": [
    "print(X.shape, X_test.shape)"
   ]
  },
  {
   "cell_type": "code",
   "execution_count": null,
   "metadata": {
    "_cell_guid": "7ac7ec49-3a09-4a00-adf5-bb8c2d904053",
    "_uuid": "65503f2e36023c0fe5ccb27203d88ff23d208196",
    "collapsed": true
   },
   "outputs": [],
   "source": [
    "y_test = np.zeros((X_test.shape[0], max(y)+1))\n"
   ]
  },
  {
   "cell_type": "code",
   "execution_count": null,
   "metadata": {
    "_cell_guid": "4d767cb5-a210-43b6-9430-77fea3d90176",
    "_uuid": "a6cdbdfc5c85319393d638f777c16c5585548ee3",
    "collapsed": true
   },
   "outputs": [],
   "source": [
    "n_folds = 5"
   ]
  },
  {
   "cell_type": "code",
   "execution_count": null,
   "metadata": {
    "_cell_guid": "5701bf12-4597-4d49-9928-88c1e7254e80",
    "_uuid": "434d0bc5775407dd41be45798a034a38de01218f",
    "collapsed": true
   },
   "outputs": [],
   "source": [
    "kf = model_selection.StratifiedKFold(n_splits=n_folds, random_state=1, shuffle=True)"
   ]
  },
  {
   "cell_type": "code",
   "execution_count": null,
   "metadata": {
    "_cell_guid": "6a622700-d102-490b-babe-8b01796f13d8",
    "_uuid": "4815ea0925f9eb9c7092b3489d1a3a035e875efa",
    "collapsed": true
   },
   "outputs": [],
   "source": [
    "fold = 0\n",
    "for train_index, test_index in kf.split(X, y):\n",
    "    fold += 1"
   ]
  },
  {
   "cell_type": "code",
   "execution_count": null,
   "metadata": {
    "_cell_guid": "3cc00c54-1a76-44b3-944f-e4fc51a01025",
    "_uuid": "2b84e05278e2cdbd9a7964ec0f7f420e0b784c61",
    "collapsed": true
   },
   "outputs": [],
   "source": [
    "X_train, X_valid    = X[train_index], \tX[test_index]\n",
    "y_train, y_valid    = y[train_index],   y[test_index]\n",
    "\n",
    "print(\"Fold\", fold, X_train.shape, X_valid.shape)"
   ]
  },
  {
   "cell_type": "code",
   "execution_count": null,
   "metadata": {
    "_cell_guid": "7ef26ee8-7e51-4a8f-85ce-847f9ac6d286",
    "_uuid": "9a67d8405c10141422d3cfe2ad1cd47dc6edeea4",
    "collapsed": true
   },
   "outputs": [],
   "source": [
    "clf = LogisticRegression(C=3)\n",
    "\n",
    "clf.fit(X_train, y_train)"
   ]
  },
  {
   "cell_type": "code",
   "execution_count": null,
   "metadata": {
    "_cell_guid": "14834843-9a0c-420a-8699-1f1fed01ea33",
    "_uuid": "bd241e217ea0d85f16836ca2f5c760a39d9a90f0",
    "collapsed": true
   },
   "outputs": [],
   "source": [
    "p_train = clf.predict_proba(X_train)\n",
    "p_valid = clf.predict_proba(X_valid)\n",
    "p_test = clf.predict_proba(X_test)\n"
   ]
  },
  {
   "cell_type": "code",
   "execution_count": null,
   "metadata": {
    "_cell_guid": "870f21fc-8cd7-455d-ae1b-94a82ab1821f",
    "_uuid": "0879a242e24710529533421c2e0882b6940763dd",
    "collapsed": true
   },
   "outputs": [],
   "source": [
    "print(metrics.log_loss(y_train, p_train))\n",
    "print(metrics.log_loss(y_valid, p_valid))"
   ]
  },
  {
   "cell_type": "code",
   "execution_count": null,
   "metadata": {
    "_cell_guid": "cb89075b-7d58-46e2-84ad-73f240657b9d",
    "_uuid": "74048648b5687a4e60844ec16fd4565a2adc4c9c",
    "collapsed": true
   },
   "outputs": [],
   "source": [
    "y_test += p_test/n_folds"
   ]
  },
  {
   "cell_type": "code",
   "execution_count": null,
   "metadata": {
    "_cell_guid": "7aa5ae5e-dfa2-4b14-93be-eb641ac842cd",
    "_uuid": "c902d04843e70fd6b4718890ba6a1daaacb9ff9d",
    "collapsed": true
   },
   "outputs": [],
   "source": [
    "classes = \"class1,class2,class3,class4,class5,class6,class7,class8,class9\".split(',')\n",
    "subm = pd.DataFrame(y_test, columns=classes)\n",
    "subm['ID'] = ID_test\n",
    "subm.to_csv('model_2.csv', index=False)\n"
   ]
  },
  {
   "cell_type": "code",
   "execution_count": null,
   "metadata": {
    "_cell_guid": "4c202aef-2b8c-4327-b93d-f8c5722d5bdc",
    "_uuid": "dccbec9977331d6568c1ca68bcebab6ff9fc34b1",
    "collapsed": true
   },
   "outputs": [],
   "source": [
    "subm.head()"
   ]
  },
  {
   "cell_type": "code",
   "execution_count": null,
   "metadata": {
    "_cell_guid": "6b5f5c12-b70e-4f87-bcb8-3fb64eee0663",
    "_uuid": "440f65c4f5779b98be0681645ffd19270cce08c2",
    "collapsed": true
   },
   "outputs": [],
   "source": []
  }
 ],
 "metadata": {
  "kernelspec": {
   "display_name": "Python 3",
   "language": "python",
   "name": "python3"
  },
  "language_info": {
   "codemirror_mode": {
    "name": "ipython",
    "version": 3
   },
   "file_extension": ".py",
   "mimetype": "text/x-python",
   "name": "python",
   "nbconvert_exporter": "python",
   "pygments_lexer": "ipython3",
   "version": "3.7.3"
  }
 },
 "nbformat": 4,
 "nbformat_minor": 1
}
