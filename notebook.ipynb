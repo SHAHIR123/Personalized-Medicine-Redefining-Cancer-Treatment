{
  "cells": [
    {
      "metadata": {
        "_uuid": "95898dc7b0832fad629afcd0709afeca66de7c43",
        "_cell_guid": "876a6f4c-42ac-4e03-90c1-27916f52e16a",
        "collapsed": true,
        "trusted": false
      },
      "cell_type": "code",
      "source": "# This Python 3 environment comes with many helpful analytics libraries installed\n# It is defined by the kaggle/python docker image: https://github.com/kaggle/docker-python\n# For example, here's several helpful packages to load in \n\nimport numpy as np # linear algebra\nimport pandas as pd # data processing, CSV file I/O (e.g. pd.read_csv)\n\n# Input data files are available in the \"../input/\" directory.\n# For example, running this (by clicking run or pressing Shift+Enter) will list the files in the input directory\n\nfrom subprocess import check_output\nprint(check_output([\"ls\", \"../input\"]).decode(\"utf8\"))\n\n# Any results you write to the current directory are saved as output.",
      "execution_count": null,
      "outputs": []
    },
    {
      "metadata": {
        "_uuid": "127d0b97cffe481f2181e9c54c262f52751e3992",
        "_cell_guid": "46e3c9a5-4e48-4451-82f3-2fc82b3be89f",
        "collapsed": true,
        "trusted": false
      },
      "cell_type": "code",
      "source": "import scipy.sparse as ssp\nfrom sklearn import metrics, model_selection\nfrom sklearn.linear_model import LogisticRegression\nfrom sklearn.feature_extraction.text import TfidfVectorizer",
      "execution_count": null,
      "outputs": []
    },
    {
      "metadata": {
        "_uuid": "3954a8c0ee02eadcecbb52b849dc927d42598115",
        "_cell_guid": "bf634712-90e1-4e18-aaf5-9b5c9961b6a9",
        "collapsed": true,
        "trusted": false
      },
      "cell_type": "code",
      "source": "def read_text_data(filename):\n    texts = []\n    with open(filename) as fi:\n        fi.readline()\n        for line in fi:\n            id, text = line.split(\"||\")\n    texts.append(text)\n    return texts",
      "execution_count": null,
      "outputs": []
    },
    {
      "metadata": {
        "_uuid": "ee9efd4dc1d46b96ad0e068afd0bebc181803920",
        "_cell_guid": "eaad0765-7858-4613-bab2-ead214e6f8ab",
        "collapsed": true,
        "trusted": false
      },
      "cell_type": "code",
      "source": "path = \"../input/\"\n",
      "execution_count": null,
      "outputs": []
    },
    {
      "metadata": {
        "_uuid": "827c89d978dfb175a7146f1bd53c3752e5d2a5da",
        "_cell_guid": "ed6eb1ef-2ffe-438d-8252-c71113988632",
        "collapsed": true,
        "trusted": false
      },
      "cell_type": "code",
      "source": "train_texts = read_text_data(path+\"training_text\")\ntest_texts = read_text_data(path+\"test_text\")\n",
      "execution_count": null,
      "outputs": []
    },
    {
      "metadata": {
        "_uuid": "f6173a745aaa4924b1a635fd4e1b293275eb13ac",
        "_cell_guid": "53430bec-bf98-4cc1-b353-8e900d02c166",
        "collapsed": true,
        "trusted": false
      },
      "cell_type": "code",
      "source": "tfidf = TfidfVectorizer(\n    min_df=1, max_features=1600, strip_accents='unicode', lowercase =True,\n    analyzer='word', token_pattern=r'\\w+', ngram_range=(1, 3), use_idf=True,\n    smooth_idf=True, sublinear_tf=True, stop_words = 'english'\n).fit(train_texts)",
      "execution_count": null,
      "outputs": []
    },
    {
      "metadata": {
        "_uuid": "64140185d7715010eb1618869065924685930815",
        "_cell_guid": "f9ead053-8f13-4a02-9982-751c66deb00e",
        "collapsed": true,
        "trusted": false
      },
      "cell_type": "code",
      "source": "X_train_text = tfidf.transform(train_texts)\nX_test_text = tfidf.transform(test_texts)\n",
      "execution_count": null,
      "outputs": []
    },
    {
      "metadata": {
        "_uuid": "0f506bfaa23769f0438273402498fc63cbed9da1",
        "_cell_guid": "46d64a80-f8a2-472b-8491-a2af9e51aef2",
        "collapsed": true,
        "trusted": false
      },
      "cell_type": "code",
      "source": "X_train_text",
      "execution_count": null,
      "outputs": []
    },
    {
      "metadata": {
        "_uuid": "57bf487b8c00691b1a1cbd908552fe7d3548ca32",
        "_cell_guid": "dd7de8bb-d381-46e5-9f0e-fed19432353c",
        "collapsed": true,
        "trusted": false
      },
      "cell_type": "code",
      "source": "train = pd.read_csv(path+\"training_variants\")\ntest = pd.read_csv(path+\"test_variants\")\n",
      "execution_count": null,
      "outputs": []
    },
    {
      "metadata": {
        "_uuid": "17bf059f7231d7b716d2ab65f2fd9f115bec7b30",
        "_cell_guid": "5e11f376-23b6-47b0-9a98-982ca679c7e2",
        "collapsed": true,
        "trusted": false
      },
      "cell_type": "code",
      "source": "ID_train = train.ID\nID_test = test.ID",
      "execution_count": null,
      "outputs": []
    },
    {
      "metadata": {
        "_uuid": "9e6b0bd458328d66aca7f4c647adb5f5dad7f850",
        "_cell_guid": "377b2962-281b-43fa-8eb6-9e8484548e81",
        "collapsed": true,
        "trusted": false
      },
      "cell_type": "code",
      "source": "y = train.Class.values-1",
      "execution_count": null,
      "outputs": []
    },
    {
      "metadata": {
        "_uuid": "d87ed8cc29c432fa4e1e1407d8fda40c9ffc654d",
        "_cell_guid": "a1e1afac-ce33-4199-99bc-5be8731e18fc",
        "collapsed": true,
        "trusted": false
      },
      "cell_type": "code",
      "source": "train.head()",
      "execution_count": null,
      "outputs": []
    },
    {
      "metadata": {
        "_uuid": "9f3df3a6a8e4102f02689dc62311a54afefe8a92",
        "_cell_guid": "3e9bdc1d-417a-4dc1-972d-6b75f761c045",
        "collapsed": true,
        "trusted": false
      },
      "cell_type": "code",
      "source": "train = train.drop(['ID','Class'], axis=1)\ntest = test.drop(['ID'], axis=1)",
      "execution_count": null,
      "outputs": []
    },
    {
      "metadata": {
        "_uuid": "6674aa959e6c52e9365337dd70028546bf24ca1c",
        "_cell_guid": "1fef5727-64b1-4835-b1d1-c0a10a6ae6f3",
        "collapsed": true,
        "trusted": false
      },
      "cell_type": "code",
      "source": "test.head()",
      "execution_count": null,
      "outputs": []
    },
    {
      "metadata": {
        "_uuid": "7fbc4922d23e1e2512675b129640efa8ac8151f3",
        "_cell_guid": "88c47af9-10ed-4094-acb2-eca76605bd8e",
        "collapsed": true,
        "trusted": false
      },
      "cell_type": "code",
      "source": "test.shape",
      "execution_count": null,
      "outputs": []
    },
    {
      "metadata": {
        "_uuid": "ed7961c1e227fcea6a86018ea9f510b4e6e3ae25",
        "_cell_guid": "a07e980f-ba07-4f3e-be51-4ff85e18ce9c",
        "collapsed": true,
        "trusted": false
      },
      "cell_type": "code",
      "source": "train.shape",
      "execution_count": null,
      "outputs": []
    },
    {
      "metadata": {
        "_uuid": "a28b5b301d8d57a7daf160c9847645ebc1f2e106",
        "_cell_guid": "ab983f33-03e7-4900-b49d-d354c9365cab",
        "collapsed": true,
        "trusted": false
      },
      "cell_type": "code",
      "source": "train.head()",
      "execution_count": null,
      "outputs": []
    },
    {
      "metadata": {
        "_uuid": "1036313f74dcea47a1617afcb1bf9e8e8cfcc806",
        "_cell_guid": "305d41b9-baa2-414c-9728-608af17cf47e",
        "collapsed": true,
        "trusted": false
      },
      "cell_type": "code",
      "source": "data = train.append(test)",
      "execution_count": null,
      "outputs": []
    },
    {
      "metadata": {
        "_uuid": "98107f460c46354daf8a23dde6de76defb5335c7",
        "_cell_guid": "2dc0fd55-d088-41d5-920f-f834eae09161",
        "collapsed": true,
        "trusted": false
      },
      "cell_type": "code",
      "source": "data.shape",
      "execution_count": null,
      "outputs": []
    },
    {
      "metadata": {
        "_uuid": "aadd2c09a1684a618933c0ed45c29be7a799f66e",
        "_cell_guid": "632b4910-c383-49bd-8c6d-145c6f8b7ed6",
        "collapsed": true,
        "trusted": false
      },
      "cell_type": "code",
      "source": "X_data = pd.get_dummies(data).values\nX_data.shape",
      "execution_count": null,
      "outputs": []
    },
    {
      "metadata": {
        "_uuid": "caca60cb35ce8a5666c550cd22ffd92b0bff9d50",
        "_cell_guid": "e92ede05-d0f3-4f30-9f13-4684b38545fb",
        "collapsed": true,
        "trusted": false
      },
      "cell_type": "code",
      "source": "X = X_data[:train.shape[0]]\nX_test = X_data[train.shape[0]:]\n",
      "execution_count": null,
      "outputs": []
    },
    {
      "metadata": {
        "_uuid": "962f3af69fb8a60249777068ec51b3b731efc10b",
        "_cell_guid": "8b3ef62c-ef65-417c-969d-491b717baff6",
        "collapsed": true,
        "trusted": false
      },
      "cell_type": "code",
      "source": "X.shape\n",
      "execution_count": null,
      "outputs": []
    },
    {
      "metadata": {
        "_uuid": "08393ccf0204def5e5731dd914ea33b2968d35b8",
        "_cell_guid": "2dfa9d39-90f8-4058-b418-740628cf4b26",
        "collapsed": true,
        "trusted": false
      },
      "cell_type": "code",
      "source": "X_test.shape\n",
      "execution_count": null,
      "outputs": []
    },
    {
      "metadata": {
        "_uuid": "995dea0c40bc69da3aa52515c9407d96caecf35f",
        "_cell_guid": "b29e818f-d3ef-435f-9e79-7087d03ed813",
        "collapsed": true,
        "trusted": false
      },
      "cell_type": "code",
      "source": "\nX_test_text.shape\n",
      "execution_count": null,
      "outputs": []
    },
    {
      "metadata": {
        "_uuid": "f668c22c121db210678c9c3e05f0e97ed39bd7cf",
        "_cell_guid": "70fddb2f-58ff-4714-9ce1-d9ae39335455",
        "collapsed": true,
        "trusted": false
      },
      "cell_type": "code",
      "source": "X_train_text.shape\n",
      "execution_count": null,
      "outputs": []
    },
    {
      "metadata": {
        "_uuid": "b99ea930f81369b2e6280b0862fd21181b730c50",
        "_cell_guid": "1791cae7-6b9c-4947-ab08-bf15c4add2d7",
        "collapsed": true,
        "trusted": false
      },
      "cell_type": "code",
      "source": "X = ssp.hstack((X_train_text, X), format='csr')\nX_test = ssp.hstack((X_test_text, X_test), format='csr')",
      "execution_count": null,
      "outputs": []
    },
    {
      "metadata": {
        "_uuid": "7a7d416a9d498cf7a8324784d5ea717d9ca8ff14",
        "_cell_guid": "f4b86755-941e-417f-89bf-20fa852b6b9b",
        "collapsed": true,
        "trusted": false
      },
      "cell_type": "code",
      "source": "print(X.shape, X_test.shape)",
      "execution_count": null,
      "outputs": []
    },
    {
      "metadata": {
        "_uuid": "65503f2e36023c0fe5ccb27203d88ff23d208196",
        "_cell_guid": "7ac7ec49-3a09-4a00-adf5-bb8c2d904053",
        "collapsed": true,
        "trusted": false
      },
      "cell_type": "code",
      "source": "y_test = np.zeros((X_test.shape[0], max(y)+1))\n",
      "execution_count": null,
      "outputs": []
    },
    {
      "metadata": {
        "_uuid": "a6cdbdfc5c85319393d638f777c16c5585548ee3",
        "_cell_guid": "4d767cb5-a210-43b6-9430-77fea3d90176",
        "collapsed": true,
        "trusted": false
      },
      "cell_type": "code",
      "source": "n_folds = 5",
      "execution_count": null,
      "outputs": []
    },
    {
      "metadata": {
        "_uuid": "434d0bc5775407dd41be45798a034a38de01218f",
        "_cell_guid": "5701bf12-4597-4d49-9928-88c1e7254e80",
        "collapsed": true,
        "trusted": false
      },
      "cell_type": "code",
      "source": "kf = model_selection.StratifiedKFold(n_splits=n_folds, random_state=1, shuffle=True)",
      "execution_count": null,
      "outputs": []
    },
    {
      "metadata": {
        "_uuid": "4815ea0925f9eb9c7092b3489d1a3a035e875efa",
        "_cell_guid": "6a622700-d102-490b-babe-8b01796f13d8",
        "collapsed": true,
        "trusted": false
      },
      "cell_type": "code",
      "source": "fold = 0\nfor train_index, test_index in kf.split(X, y):\n    fold += 1",
      "execution_count": null,
      "outputs": []
    },
    {
      "metadata": {
        "_uuid": "2b84e05278e2cdbd9a7964ec0f7f420e0b784c61",
        "_cell_guid": "3cc00c54-1a76-44b3-944f-e4fc51a01025",
        "collapsed": true,
        "trusted": false
      },
      "cell_type": "code",
      "source": "X_train, X_valid    = X[train_index], \tX[test_index]\ny_train, y_valid    = y[train_index],   y[test_index]\n\nprint(\"Fold\", fold, X_train.shape, X_valid.shape)",
      "execution_count": null,
      "outputs": []
    },
    {
      "metadata": {
        "_uuid": "9a67d8405c10141422d3cfe2ad1cd47dc6edeea4",
        "_cell_guid": "7ef26ee8-7e51-4a8f-85ce-847f9ac6d286",
        "collapsed": true,
        "trusted": false
      },
      "cell_type": "code",
      "source": "clf = LogisticRegression(C=3)\n\nclf.fit(X_train, y_train)",
      "execution_count": null,
      "outputs": []
    },
    {
      "metadata": {
        "_uuid": "bd241e217ea0d85f16836ca2f5c760a39d9a90f0",
        "_cell_guid": "14834843-9a0c-420a-8699-1f1fed01ea33",
        "collapsed": true,
        "trusted": false
      },
      "cell_type": "code",
      "source": "p_train = clf.predict_proba(X_train)\np_valid = clf.predict_proba(X_valid)\np_test = clf.predict_proba(X_test)\n",
      "execution_count": null,
      "outputs": []
    },
    {
      "metadata": {
        "_uuid": "0879a242e24710529533421c2e0882b6940763dd",
        "_cell_guid": "870f21fc-8cd7-455d-ae1b-94a82ab1821f",
        "collapsed": true,
        "trusted": false
      },
      "cell_type": "code",
      "source": "print(metrics.log_loss(y_train, p_train))\nprint(metrics.log_loss(y_valid, p_valid))",
      "execution_count": null,
      "outputs": []
    },
    {
      "metadata": {
        "_uuid": "74048648b5687a4e60844ec16fd4565a2adc4c9c",
        "_cell_guid": "cb89075b-7d58-46e2-84ad-73f240657b9d",
        "collapsed": true,
        "trusted": false
      },
      "cell_type": "code",
      "source": "y_test += p_test/n_folds",
      "execution_count": null,
      "outputs": []
    },
    {
      "metadata": {
        "_uuid": "c902d04843e70fd6b4718890ba6a1daaacb9ff9d",
        "_cell_guid": "7aa5ae5e-dfa2-4b14-93be-eb641ac842cd",
        "collapsed": true,
        "trusted": false
      },
      "cell_type": "code",
      "source": "classes = \"class1,class2,class3,class4,class5,class6,class7,class8,class9\".split(',')\nsubm = pd.DataFrame(y_test, columns=classes)\nsubm['ID'] = ID_test\nsubm.to_csv('model_2.csv', index=False)\n",
      "execution_count": null,
      "outputs": []
    },
    {
      "metadata": {
        "_uuid": "dccbec9977331d6568c1ca68bcebab6ff9fc34b1",
        "_cell_guid": "4c202aef-2b8c-4327-b93d-f8c5722d5bdc",
        "collapsed": true,
        "trusted": false
      },
      "cell_type": "code",
      "source": "subm.head()",
      "execution_count": null,
      "outputs": []
    },
    {
      "metadata": {
        "_uuid": "440f65c4f5779b98be0681645ffd19270cce08c2",
        "_cell_guid": "6b5f5c12-b70e-4f87-bcb8-3fb64eee0663",
        "collapsed": true,
        "trusted": false
      },
      "cell_type": "code",
      "source": "",
      "execution_count": null,
      "outputs": []
    }
  ],
  "metadata": {
    "kernelspec": {
      "display_name": "Python 3",
      "language": "python",
      "name": "python3"
    },
    "language_info": {
      "name": "python",
      "version": "3.6.5",
      "mimetype": "text/x-python",
      "codemirror_mode": {
        "name": "ipython",
        "version": 3
      },
      "pygments_lexer": "ipython3",
      "nbconvert_exporter": "python",
      "file_extension": ".py"
    }
  },
  "nbformat": 4,
  "nbformat_minor": 1
}